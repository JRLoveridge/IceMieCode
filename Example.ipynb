{
 "cells": [
  {
   "cell_type": "code",
   "execution_count": 2,
   "metadata": {},
   "outputs": [],
   "source": [
    "import miecode\n",
    "import numpy as np\n",
    "\n",
    "from mie import compute_table, get_phase_function\n",
    "from refraction import ice_index_of_refraction\n",
    "from checks import check_errcode"
   ]
  },
  {
   "cell_type": "code",
   "execution_count": 3,
   "metadata": {},
   "outputs": [],
   "source": [
    "import xarray as xr"
   ]
  },
  {
   "cell_type": "code",
   "execution_count": 4,
   "metadata": {},
   "outputs": [],
   "source": [
    "def freq_to_wavelength(mu):\n",
    "    \"\"\"Convert frequency in GHz to wavelenght in Microns.\n",
    "    \"\"\"\n",
    "    return 1e6*(299792458.0/(mu*1e9))"
   ]
  },
  {
   "cell_type": "code",
   "execution_count": 5,
   "metadata": {},
   "outputs": [],
   "source": [
    "mu = 94.0\n",
    "T = 250.0\n",
    "\n",
    "real, imag = ice_index_of_refraction(mu, T)\n",
    "refractive_index = real - 1j*imag\n",
    "\n",
    "table = compute_table(\n",
    "    freq_to_wavelength(mu), \n",
    "    refractive_index,\n",
    "    1e2,\n",
    "    5e4,\n",
    ")"
   ]
  },
  {
   "cell_type": "code",
   "execution_count": 6,
   "metadata": {},
   "outputs": [
    {
     "data": {
      "text/html": [
       "<pre>&lt;xarray.Dataset&gt;\n",
       "Dimensions:       (legendre_index: 239, radius: 710, stokes_index: 6)\n",
       "Coordinates:\n",
       "  * radius        (radius) float32 2.0 7.075899 ... 49911.973 50011.973\n",
       "  * stokes_index  (stokes_index) &lt;U3 &#x27;P11&#x27; &#x27;P22&#x27; &#x27;P33&#x27; &#x27;P44&#x27; &#x27;P12&#x27; &#x27;P34&#x27;\n",
       "Dimensions without coordinates: legendre_index\n",
       "Data variables:\n",
       "    extinction    (radius) float32 0.00012509458 0.00554336 ... 16699574000.0\n",
       "    scatter       (radius) float32 1.4210233e-09 2.7869685e-06 ... 15382108000.0\n",
       "    nleg          (radius) int32 4 4 6 6 6 6 6 6 ... 234 234 236 236 236 236 238\n",
       "    legendre      (stokes_index, legendre_index, radius) float32 1.4210232e-09 ... 4.796635\n",
       "Attributes:\n",
       "    particle_type:               Ice\n",
       "    refractive_index:            (array([1.77973945]), array([-0.00157939]))\n",
       "    refractive_index_source:     refraction.py\n",
       "    units:                       [&#x27;Radius [micron]&#x27;, &#x27;Wavelength [micron]&#x27;]\n",
       "    wavelength_band:             (3189.281468085106, 3189.281468085106)\n",
       "    wavelength_center:           3189.281494140625\n",
       "    wavelength_averaging:        None\n",
       "    wavelength_resolution:       -1\n",
       "    maximum_legendre:            238\n",
       "    minimum_effective_radius:    100.0\n",
       "    maximum_integration_radius:  50000.0</pre>"
      ],
      "text/plain": [
       "<xarray.Dataset>\n",
       "Dimensions:       (legendre_index: 239, radius: 710, stokes_index: 6)\n",
       "Coordinates:\n",
       "  * radius        (radius) float32 2.0 7.075899 ... 49911.973 50011.973\n",
       "  * stokes_index  (stokes_index) <U3 'P11' 'P22' 'P33' 'P44' 'P12' 'P34'\n",
       "Dimensions without coordinates: legendre_index\n",
       "Data variables:\n",
       "    extinction    (radius) float32 0.00012509458 0.00554336 ... 16699574000.0\n",
       "    scatter       (radius) float32 1.4210233e-09 2.7869685e-06 ... 15382108000.0\n",
       "    nleg          (radius) int32 4 4 6 6 6 6 6 6 ... 234 234 236 236 236 236 238\n",
       "    legendre      (stokes_index, legendre_index, radius) float32 1.4210232e-09 ... 4.796635\n",
       "Attributes:\n",
       "    particle_type:               Ice\n",
       "    refractive_index:            (array([1.77973945]), array([-0.00157939]))\n",
       "    refractive_index_source:     refraction.py\n",
       "    units:                       ['Radius [micron]', 'Wavelength [micron]']\n",
       "    wavelength_band:             (3189.281468085106, 3189.281468085106)\n",
       "    wavelength_center:           3189.281494140625\n",
       "    wavelength_averaging:        None\n",
       "    wavelength_resolution:       -1\n",
       "    maximum_legendre:            238\n",
       "    minimum_effective_radius:    100.0\n",
       "    maximum_integration_radius:  50000.0"
      ]
     },
     "execution_count": 6,
     "metadata": {},
     "output_type": "execute_result"
    }
   ],
   "source": [
    "table"
   ]
  },
  {
   "cell_type": "code",
   "execution_count": 7,
   "metadata": {},
   "outputs": [
    {
     "data": {
      "text/plain": [
       "[<matplotlib.lines.Line2D at 0x33909b358>]"
      ]
     },
     "execution_count": 7,
     "metadata": {},
     "output_type": "execute_result"
    }
   ],
   "source": [
    "%matplotlib qt\n",
    "import pylab as py\n",
    "py.plot(table.radius, table.extinction/(np.pi*table.radius**2))"
   ]
  },
  {
   "cell_type": "code",
   "execution_count": 8,
   "metadata": {},
   "outputs": [],
   "source": [
    "from size_distribution import gamma\n",
    "size_dist = gamma(table.radius, reff=1000.0, veff=0.1, normalization='number_concentration')"
   ]
  },
  {
   "cell_type": "code",
   "execution_count": 9,
   "metadata": {},
   "outputs": [
    {
     "data": {
      "text/plain": [
       "[<matplotlib.lines.Line2D at 0x33a2e8470>]"
      ]
     },
     "execution_count": 9,
     "metadata": {},
     "output_type": "execute_result"
    }
   ],
   "source": [
    "py.figure()\n",
    "py.plot(table.radius, size_dist[:,0])"
   ]
  },
  {
   "cell_type": "code",
   "execution_count": 10,
   "metadata": {},
   "outputs": [],
   "source": [
    "import size_distribution\n",
    "size_distributions = size_distribution.get_size_distribution_grid(table.radius, size_distribution_function=gamma,\n",
    "                               particle_density=1.0, radius_units='micron',\n",
    "                               reff=np.linspace(1e3, 2e3,5),\n",
    "                          veff=np.linspace(0.1,1.0,2))"
   ]
  },
  {
   "cell_type": "code",
   "execution_count": 13,
   "metadata": {},
   "outputs": [
    {
     "data": {
      "text/plain": [
       "[<matplotlib.lines.Line2D at 0x33b7d1f28>]"
      ]
     },
     "execution_count": 13,
     "metadata": {},
     "output_type": "execute_result"
    }
   ],
   "source": [
    "py.figure()\n",
    "size_distributions.number_density[:,0,-1].plot(yscale='log')"
   ]
  },
  {
   "cell_type": "code",
   "execution_count": 16,
   "metadata": {},
   "outputs": [],
   "source": [
    "\n",
    "poly_table = mie.get_poly_table(size_distributions, table)"
   ]
  },
  {
   "cell_type": "code",
   "execution_count": 23,
   "metadata": {},
   "outputs": [],
   "source": [
    "phases = get_phase_function(poly_table.legcoef, angles=np.linspace(0.0,180.0,300))#angles=np.array([180.0]))"
   ]
  },
  {
   "cell_type": "code",
   "execution_count": 25,
   "metadata": {},
   "outputs": [
    {
     "data": {
      "text/plain": [
       "[<matplotlib.lines.Line2D at 0x33be061d0>]"
      ]
     },
     "execution_count": 25,
     "metadata": {},
     "output_type": "execute_result"
    }
   ],
   "source": [
    "py.figure()\n",
    "phases[0,:,0,0].plot(yscale='log')"
   ]
  },
  {
   "cell_type": "code",
   "execution_count": null,
   "metadata": {},
   "outputs": [],
   "source": []
  }
 ],
 "metadata": {
  "kernelspec": {
   "display_name": "Python 3",
   "language": "python",
   "name": "python3"
  },
  "language_info": {
   "codemirror_mode": {
    "name": "ipython",
    "version": 3
   },
   "file_extension": ".py",
   "mimetype": "text/x-python",
   "name": "python",
   "nbconvert_exporter": "python",
   "pygments_lexer": "ipython3",
   "version": "3.6.8"
  }
 },
 "nbformat": 4,
 "nbformat_minor": 2
}
